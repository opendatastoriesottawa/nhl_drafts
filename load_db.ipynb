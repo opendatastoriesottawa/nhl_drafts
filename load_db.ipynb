{
 "cells": [
  {
   "cell_type": "markdown",
   "metadata": {},
   "source": [
    "#### Links\n",
    "\n",
    "https://www.hockey-reference.com/draft/NHL_2000_entry.html  \n",
    "Hockey-Reference is where the playoff and draft data came from.  \n",
    "http://www.hockeyabstract.com/testimonials/nhlplayerdata1967-2013  \n",
    "Hockey Abstract is where the player data came from.  "
   ]
  },
  {
   "cell_type": "code",
   "execution_count": 1,
   "metadata": {},
   "outputs": [],
   "source": [
    "import pandas as pd\n",
    "import os\n",
    "import pymysql.cursors"
   ]
  },
  {
   "cell_type": "code",
   "execution_count": 2,
   "metadata": {},
   "outputs": [],
   "source": [
    "# load playoff data\n",
    "playoffs = pd.read_csv(\"nhlplayoffs.csv\")"
   ]
  },
  {
   "cell_type": "code",
   "execution_count": 3,
   "metadata": {},
   "outputs": [],
   "source": [
    "# load player data\n",
    "players= pd.read_excel(\"NHLPlayerData1967_2018.xlsx\", sheet_name=\"Player Data\")"
   ]
  },
  {
   "cell_type": "code",
   "execution_count": 29,
   "metadata": {},
   "outputs": [],
   "source": [
    "# load draft data\n",
    "drafts = {}\n",
    "for f in os.listdir(\"drafts\"):\n",
    "    drafts[f.split(\".\")[0]] = pd.read_csv(\"drafts\\{}\".format(f))"
   ]
  },
  {
   "cell_type": "code",
   "execution_count": 5,
   "metadata": {},
   "outputs": [],
   "source": [
    "# get teams printed\n",
    "teams = set()\n",
    "for row in playoffs.itertuples():\n",
    "    teams.add(playoffs.at[row[0], 'Champion'])\n",
    "    teams.add(playoffs.at[row[0], 'Runner-Up'])"
   ]
  },
  {
   "cell_type": "code",
   "execution_count": 6,
   "metadata": {},
   "outputs": [],
   "source": [
    "teams_ac = set()\n",
    "for row in players.itertuples():\n",
    "    teams_ac.add(players.at[row[0], 'Team'])"
   ]
  },
  {
   "cell_type": "code",
   "execution_count": 7,
   "metadata": {},
   "outputs": [],
   "source": [
    "for k, v in drafts.items():\n",
    "    for row in v.itertuples():\n",
    "        teams.add(v.at[row[0], 'Team'])"
   ]
  },
  {
   "cell_type": "code",
   "execution_count": 8,
   "metadata": {},
   "outputs": [
    {
     "name": "stdout",
     "output_type": "stream",
     "text": [
      "{nan, 'Colorado Avalanche', 'Edmonton Oilers', 'Buffalo Sabres', 'Nashville Predators', 'New York Islanders', 'Detroit Red Wings', 'Calgary Flames', 'Los Angeles Kings', 'Minnesota North Stars', 'Florida Panthers', 'Dallas Stars', 'New Jersey Devils', 'Atlanta Thrashers', 'Ottawa Senators', 'Columbus Blue Jackets', 'Toronto Maple Leafs', 'Arizona Coyotes', 'Season canceled', 'New York Rangers', 'Vancouver Canucks', 'Winnipeg Jets', 'Vegas Golden Knights', 'San Jose Sharks', 'Philadelphia Flyers', 'Pittsburgh Penguins', 'Montreal Canadiens', 'Tampa Bay Lightning', 'Boston Bruins', 'Chicago Blackhawks', 'St. Louis Blues', 'Minnesota Wild', 'Washington Capitals', 'Mighty Ducks of Anaheim', 'Phoenix Coyotes', 'Carolina Hurricanes', 'Anaheim Ducks'}\n",
      "{nan, 'WSH', 'CBJ', 'WIN', 'TBL', 'PIT', 'HAR', 'BOS', 'COL', 'MIN', 'CHI', 'PHX', 'CLR', 'SJS', 'TOT', 'ANA', 'ATL', 'CAR', 'KCS', 'VAN', 'CGY', 'NYR', 'PHI', 'NYI', 'CBH', 'WPG', 'MDA', 'STL', 'ATF', 'CGS', 'OAK', 'BUF', 'CLE', 'MNS', 'QUE', 'DET', 'TOR', 'FLA', 'MTL', 'ARI', 'NSH', 'DAL', 'LAK', 'NJD', 'EDM', 'OTT'}\n"
     ]
    }
   ],
   "source": [
    "print(teams)\n",
    "print(teams_ac)"
   ]
  },
  {
   "cell_type": "code",
   "execution_count": 9,
   "metadata": {},
   "outputs": [],
   "source": [
    "# with this I can make the list\n",
    "# since we are only going back to the year 2000, I can discount any teams not already in the league.\n",
    "# I can also discount Seattle, as they have not started playing yet.\n",
    "# I cannot count VGK either, since they were built in an expansion draft\n",
    "# note that the atlanta thrashers franchise became the winnipeg jets in 2011\n",
    "\n",
    "teams = {'DAL': 'Dallas Stars',\n",
    "         'FLA': 'Florida Panthers',\n",
    "         'LAK': 'Los Angeles Kings',\n",
    "         'PHX': 'Phoenix Coyotes',\n",
    "         'WPG': 'Winnipeg Jets',\n",
    "         'MIN': 'Minnesota Wild',\n",
    "         'VAN': 'Vancouver Canucks',\n",
    "         'CHI': 'Chicago Blackhawks',\n",
    "         'WSH': 'Washington Capitals',\n",
    "         'PIT': 'Pittsburgh Penguins',\n",
    "         'ARI': 'Arizona Coyotes',\n",
    "         'NJD': 'New Jersey Devils',\n",
    "         'ANA': 'Anaheim Ducks',\n",
    "         'EDM': 'Edmonton Oilers',\n",
    "         'NSH': 'Nashville Predators',\n",
    "         'CGY': 'Calgary Flames',\n",
    "         'PHI': 'Philadelphia Flyers',\n",
    "         'TBL': 'Tampa Bay Lightning',\n",
    "         'SJS': 'San Jose Sharks',\n",
    "         'BUF': 'Buffalo Sabres',\n",
    "         'CBJ': 'Columbus Blue Jackets',\n",
    "         'NYI': 'New York Islanders',\n",
    "         'NYR': 'New York Rangers',\n",
    "         'TOR': 'Toronto Maple Leafs',\n",
    "         'CAR': 'Carolina Hurricanes',\n",
    "         'STL': 'St. Louis Blues',\n",
    "         'COL': 'Colorado Avalanche',\n",
    "         'DET': 'Detroit Red Wings',\n",
    "         'BOS': 'Boston Bruins',\n",
    "         'OTT': 'Ottawa Senators',\n",
    "         'MTL': 'Montreal Canadiens',\n",
    "         'VGK': 'Vegas Golden Knights',\n",
    "         'ATL': 'Atlanta Thrashers',\n",
    "         'MDA': 'Mighty Ducks of Anaheim' # Anaheim Duck\n",
    "        }"
   ]
  },
  {
   "cell_type": "code",
   "execution_count": null,
   "metadata": {},
   "outputs": [],
   "source": []
  },
  {
   "cell_type": "code",
   "execution_count": 10,
   "metadata": {},
   "outputs": [
    {
     "data": {
      "text/plain": [
       "'\\nTables\\nFranchises - ID, Acronym, Name (so we can have multiple teams with the same franchise)\\nPlayerSeason - ID, Season, Team\\nPlayoffFinals - ID, Season, Champion, RunnerUp\\nSeasonConnection - Season1, Season2 --> where season1 is a single year and season2 is two years year1-year2 (year2 match to season1)\\nDrafts - ID, Position, Team, PlayerId\\n\\nFunctions\\nGetRoster\\nFor a given team in a given season, create their roster based on the year.\\nCan identify which of those players were drafted by that team.\\n\\n\\n'"
      ]
     },
     "execution_count": 10,
     "metadata": {},
     "output_type": "execute_result"
    }
   ],
   "source": [
    "# send it all to a sql database?\n",
    "\"\"\"\n",
    "Tables\n",
    "Franchises - ID, Acronym, Name (so we can have multiple teams with the same franchise)\n",
    "PlayerSeason -  \n",
    "PlayoffFinals - ID, Season, Champion, RunnerUp\n",
    "SeasonConnection - Season1, Season2 --> where season1 is a single year and season2 is two years year1-year2 (year2 match to season1)\n",
    "Drafts - ID, Position, Team, PlayerId\n",
    "\n",
    "Functions\n",
    "GetRoster\n",
    "For a given team in a given season, create their roster based on the year.\n",
    "Can identify which of those players were drafted by that team.\n",
    "\n",
    "\n",
    "\"\"\""
   ]
  },
  {
   "cell_type": "code",
   "execution_count": null,
   "metadata": {},
   "outputs": [],
   "source": []
  },
  {
   "cell_type": "code",
   "execution_count": 10,
   "metadata": {},
   "outputs": [],
   "source": [
    "# adding data to the sql data\n",
    "import config as cfg\n",
    "def connect_to_db():\n",
    "    \"\"\"\n",
    "    Use this method to open connection to the database\n",
    "    \"\"\"\n",
    "    db_conn = pymysql.connect(host=cfg.host,\n",
    "                              user=cfg.user,\n",
    "                              password=cfg.pw,\n",
    "                              db=cfg.db,\n",
    "                              charset='utf8mb4',\n",
    "                              cursorclass=pymysql.cursors.DictCursor)\n",
    "\n",
    "    \n",
    "    return db_conn\n",
    "\n",
    "def submit_query(db_conn, query, isreturn=False, values=None):\n",
    "    \"\"\"\n",
    "    Submit a SQL query. Takes in a query via query, and if that is a query to return data,\n",
    "    set isreturn to True\n",
    "    \"\"\"\n",
    "    cur = db_conn.cursor()\n",
    "\n",
    "    if values is None:\n",
    "        cur.execute(query)\n",
    "    else:\n",
    "        cur.execute(query, values)\n",
    "    \n",
    "    if isreturn:\n",
    "        return cur.fetchall()\n",
    "    else:\n",
    "        return"
   ]
  },
  {
   "cell_type": "code",
   "execution_count": 11,
   "metadata": {},
   "outputs": [],
   "source": [
    "def insertion(values_dict, table_name):\n",
    "\t\"\"\"\n",
    "\tSince we are adding data to a values dict, we can create insertion queries via function\n",
    "\t\"\"\"\n",
    "\tfront = 'INSERT INTO {}.{}'.format(cfg.schema, table_name)\n",
    "\t\n",
    "\t\n",
    "\t# after front define columns and values\n",
    "\tcols = \"\" # key\n",
    "\tvals = \"\" # %s for security\n",
    "\tform_vals = [] # list of actual values, to be converted to tuple\n",
    "\tfirst = True\n",
    "\tfor k, v in values_dict.items():\n",
    "\t\tif first:\n",
    "\t\t\tcols = \"{}{}\".format(cols, k)\n",
    "\t\t\tvals = \"{}%s\".format(vals, v)\n",
    "\t\t\tform_vals.append(v)\n",
    "\t\t\tfirst = False\n",
    "\t\telse:\n",
    "\t\t\tcols = \"{},{}\".format(cols, k)\n",
    "\t\t\tvals = \"{},%s\".format(vals, v)\n",
    "\t\t\tform_vals.append(v)\n",
    "\t# once done, enclose in brackets\n",
    "\tcols = \"({})\".format(cols)\n",
    "\tvals = \"({})\".format(vals)\n",
    "\t\n",
    "\treturn \"{} {} VALUES {};\".format(front, cols, vals), tuple(form_vals)"
   ]
  },
  {
   "cell_type": "code",
   "execution_count": 23,
   "metadata": {},
   "outputs": [
    {
     "name": "stdout",
     "output_type": "stream",
     "text": [
      "[(0, 'DAL', 'Dallas Stars'), (1, 'FLA', 'Florida Panthers'), (2, 'LAK', 'Los Angeles Kings'), (3, 'PHX', 'Phoenix Coyotes'), (4, 'WPG', 'Winnipeg Jets'), (5, 'MIN', 'Minnesota Wild'), (6, 'VAN', 'Vancouver Canucks'), (7, 'CHI', 'Chicago Blackhawks'), (8, 'WSH', 'Washington Capitals'), (9, 'PIT', 'Pittsburgh Penguins'), (10, 'ARI', 'Arizona Coyotes'), (11, 'NJD', 'New Jersey Devils'), (12, 'ANA', 'Anaheim Ducks'), (13, 'EDM', 'Edmonton Oilers'), (14, 'NSH', 'Nashville Predators'), (15, 'CGY', 'Calgary Flames'), (16, 'PHI', 'Philadelphia Flyers'), (17, 'TBL', 'Tampa Bay Lightning'), (18, 'SJS', 'San Jose Sharks'), (19, 'BUF', 'Buffalo Sabres'), (20, 'CBJ', 'Columbus Blue Jackets'), (21, 'NYI', 'New York Islanders'), (22, 'NYR', 'New York Rangers'), (23, 'TOR', 'Toronto Maple Leafs'), (24, 'CAR', 'Carolina Hurricanes'), (25, 'STL', 'St. Louis Blues'), (26, 'COL', 'Colorado Avalanche'), (27, 'DET', 'Detroit Red Wings'), (28, 'BOS', 'Boston Bruins'), (29, 'OTT', 'Ottawa Senators'), (30, 'MTL', 'Montreal Canadiens'), (31, 'VGK', 'Vegas Golden Knights'), (4, 'ATL', 'Atlanta Thrashers'), (12, 'MDA', 'Mighty Ducks of Anaheim'), (0, 'MNS', 'Minnesota North Stars'), (24, 'HFD', 'Hartford Whalers'), (26, 'QCN', 'Quebec Nordiques'), (3, 'WIN', 'Winnipeg Jets')]\n"
     ]
    }
   ],
   "source": [
    "# first we need to create the FranchiseIDs. Teams like WPG/ATL and ANA/MDA have multiple teams under a single franchise\n",
    "franchise_ids = []\n",
    "hold1 = {\"WPG\":-1, \"ATL\":-1}\n",
    "hold2 = {\"ANA\":-1, \"MDA\":-1}\n",
    "#hold3 = {\"QC\":-1, \"COL\":-1}\n",
    "#hold4 = {\"DAL\":-1, \"MNS\":-1}\n",
    "#hold5 = {\"HFD\":-1, \"CAR\":-1}\n",
    "\n",
    "counter = 0\n",
    "for k, v in teams.items():\n",
    "    if k in list(hold1.keys()):\n",
    "        if hold1['ATL'] > -1 and hold1['WPG'] == -1:\n",
    "            # assign atl value to wpg\n",
    "            franchise_ids.append((hold1[\"ATL\"], k, v))\n",
    "        elif hold1['ATL'] == -1 and hold1['WPG'] > -1:\n",
    "            # assign wpg value to atl\n",
    "            franchise_ids.append((hold1[\"WPG\"], k, v))            \n",
    "        else:\n",
    "            # assign this franchise the current value and update the hold\n",
    "            franchise_ids.append((counter, k, v))\n",
    "            hold1[k] = counter\n",
    "    elif k in list(hold2.keys()):\n",
    "        if hold2['ANA'] > -1 and hold2['MDA'] == -1:\n",
    "            # assign ana value to mda\n",
    "            franchise_ids.append((hold2[\"ANA\"], k, v))\n",
    "        elif hold2['ANA'] == -1 and hold2['MDA'] > -1:\n",
    "            # assign mda value to ana\n",
    "            franchise_ids.append((hold2[\"MDA\"], k, v))            \n",
    "        else:\n",
    "            # assign this franchise the current value and update the hold\n",
    "            franchise_ids.append((counter, k, v))\n",
    "            hold2[k] = counter        \n",
    "    else:        \n",
    "        franchise_ids.append((counter, k, v))\n",
    "    counter += 1\n",
    "\n",
    "# do it manually for some\n",
    "franchise_ids.append((0, 'MNS', 'Minnesota North Stars'))\n",
    "franchise_ids.append((24, 'HFD', 'Hartford Whalers'))\n",
    "franchise_ids.append((26, 'QCN', 'Quebec Nordiques'))\n",
    "franchise_ids.append((3, 'WIN', 'Winnipeg Jets')) # pre-2000\n",
    "print(franchise_ids)\n",
    "# franchise ids can now be added to the database"
   ]
  },
  {
   "cell_type": "code",
   "execution_count": 24,
   "metadata": {
    "scrolled": true
   },
   "outputs": [
    {
     "name": "stdout",
     "output_type": "stream",
     "text": [
      "INSERT INTO nhldrafts.Franchises (FranchiseID,Acronym,TeamName) VALUES (%s,%s,%s); (0, 'DAL', 'Dallas Stars')\n",
      "INSERT INTO nhldrafts.Franchises (FranchiseID,Acronym,TeamName) VALUES (%s,%s,%s); (1, 'FLA', 'Florida Panthers')\n",
      "INSERT INTO nhldrafts.Franchises (FranchiseID,Acronym,TeamName) VALUES (%s,%s,%s); (2, 'LAK', 'Los Angeles Kings')\n",
      "INSERT INTO nhldrafts.Franchises (FranchiseID,Acronym,TeamName) VALUES (%s,%s,%s); (3, 'PHX', 'Phoenix Coyotes')\n",
      "INSERT INTO nhldrafts.Franchises (FranchiseID,Acronym,TeamName) VALUES (%s,%s,%s); (4, 'WPG', 'Winnipeg Jets')\n",
      "INSERT INTO nhldrafts.Franchises (FranchiseID,Acronym,TeamName) VALUES (%s,%s,%s); (5, 'MIN', 'Minnesota Wild')\n",
      "INSERT INTO nhldrafts.Franchises (FranchiseID,Acronym,TeamName) VALUES (%s,%s,%s); (6, 'VAN', 'Vancouver Canucks')\n",
      "INSERT INTO nhldrafts.Franchises (FranchiseID,Acronym,TeamName) VALUES (%s,%s,%s); (7, 'CHI', 'Chicago Blackhawks')\n",
      "INSERT INTO nhldrafts.Franchises (FranchiseID,Acronym,TeamName) VALUES (%s,%s,%s); (8, 'WSH', 'Washington Capitals')\n",
      "INSERT INTO nhldrafts.Franchises (FranchiseID,Acronym,TeamName) VALUES (%s,%s,%s); (9, 'PIT', 'Pittsburgh Penguins')\n",
      "INSERT INTO nhldrafts.Franchises (FranchiseID,Acronym,TeamName) VALUES (%s,%s,%s); (10, 'ARI', 'Arizona Coyotes')\n",
      "INSERT INTO nhldrafts.Franchises (FranchiseID,Acronym,TeamName) VALUES (%s,%s,%s); (11, 'NJD', 'New Jersey Devils')\n",
      "INSERT INTO nhldrafts.Franchises (FranchiseID,Acronym,TeamName) VALUES (%s,%s,%s); (12, 'ANA', 'Anaheim Ducks')\n",
      "INSERT INTO nhldrafts.Franchises (FranchiseID,Acronym,TeamName) VALUES (%s,%s,%s); (13, 'EDM', 'Edmonton Oilers')\n",
      "INSERT INTO nhldrafts.Franchises (FranchiseID,Acronym,TeamName) VALUES (%s,%s,%s); (14, 'NSH', 'Nashville Predators')\n",
      "INSERT INTO nhldrafts.Franchises (FranchiseID,Acronym,TeamName) VALUES (%s,%s,%s); (15, 'CGY', 'Calgary Flames')\n",
      "INSERT INTO nhldrafts.Franchises (FranchiseID,Acronym,TeamName) VALUES (%s,%s,%s); (16, 'PHI', 'Philadelphia Flyers')\n",
      "INSERT INTO nhldrafts.Franchises (FranchiseID,Acronym,TeamName) VALUES (%s,%s,%s); (17, 'TBL', 'Tampa Bay Lightning')\n",
      "INSERT INTO nhldrafts.Franchises (FranchiseID,Acronym,TeamName) VALUES (%s,%s,%s); (18, 'SJS', 'San Jose Sharks')\n",
      "INSERT INTO nhldrafts.Franchises (FranchiseID,Acronym,TeamName) VALUES (%s,%s,%s); (19, 'BUF', 'Buffalo Sabres')\n",
      "INSERT INTO nhldrafts.Franchises (FranchiseID,Acronym,TeamName) VALUES (%s,%s,%s); (20, 'CBJ', 'Columbus Blue Jackets')\n",
      "INSERT INTO nhldrafts.Franchises (FranchiseID,Acronym,TeamName) VALUES (%s,%s,%s); (21, 'NYI', 'New York Islanders')\n",
      "INSERT INTO nhldrafts.Franchises (FranchiseID,Acronym,TeamName) VALUES (%s,%s,%s); (22, 'NYR', 'New York Rangers')\n",
      "INSERT INTO nhldrafts.Franchises (FranchiseID,Acronym,TeamName) VALUES (%s,%s,%s); (23, 'TOR', 'Toronto Maple Leafs')\n",
      "INSERT INTO nhldrafts.Franchises (FranchiseID,Acronym,TeamName) VALUES (%s,%s,%s); (24, 'CAR', 'Carolina Hurricanes')\n",
      "INSERT INTO nhldrafts.Franchises (FranchiseID,Acronym,TeamName) VALUES (%s,%s,%s); (25, 'STL', 'St. Louis Blues')\n",
      "INSERT INTO nhldrafts.Franchises (FranchiseID,Acronym,TeamName) VALUES (%s,%s,%s); (26, 'COL', 'Colorado Avalanche')\n",
      "INSERT INTO nhldrafts.Franchises (FranchiseID,Acronym,TeamName) VALUES (%s,%s,%s); (27, 'DET', 'Detroit Red Wings')\n",
      "INSERT INTO nhldrafts.Franchises (FranchiseID,Acronym,TeamName) VALUES (%s,%s,%s); (28, 'BOS', 'Boston Bruins')\n",
      "INSERT INTO nhldrafts.Franchises (FranchiseID,Acronym,TeamName) VALUES (%s,%s,%s); (29, 'OTT', 'Ottawa Senators')\n",
      "INSERT INTO nhldrafts.Franchises (FranchiseID,Acronym,TeamName) VALUES (%s,%s,%s); (30, 'MTL', 'Montreal Canadiens')\n",
      "INSERT INTO nhldrafts.Franchises (FranchiseID,Acronym,TeamName) VALUES (%s,%s,%s); (31, 'VGK', 'Vegas Golden Knights')\n",
      "INSERT INTO nhldrafts.Franchises (FranchiseID,Acronym,TeamName) VALUES (%s,%s,%s); (4, 'ATL', 'Atlanta Thrashers')\n",
      "INSERT INTO nhldrafts.Franchises (FranchiseID,Acronym,TeamName) VALUES (%s,%s,%s); (12, 'MDA', 'Mighty Ducks of Anaheim')\n",
      "INSERT INTO nhldrafts.Franchises (FranchiseID,Acronym,TeamName) VALUES (%s,%s,%s); (0, 'MNS', 'Minnesota North Stars')\n",
      "INSERT INTO nhldrafts.Franchises (FranchiseID,Acronym,TeamName) VALUES (%s,%s,%s); (24, 'HFD', 'Hartford Whalers')\n",
      "INSERT INTO nhldrafts.Franchises (FranchiseID,Acronym,TeamName) VALUES (%s,%s,%s); (26, 'QCN', 'Quebec Nordiques')\n",
      "INSERT INTO nhldrafts.Franchises (FranchiseID,Acronym,TeamName) VALUES (%s,%s,%s); (3, 'WIN', 'Winnipeg Jets')\n"
     ]
    }
   ],
   "source": [
    "# loop over franchise_ids and append to the db\n",
    "db_conn = connect_to_db()\n",
    "for i in range(len(franchise_ids)):\n",
    "    row = {}\n",
    "    row ['FranchiseID'] = franchise_ids[i][0]\n",
    "    row ['Acronym'] = franchise_ids[i][1]\n",
    "    row ['TeamName'] = franchise_ids[i][2]\n",
    "    q, v = insertion(row, 'Franchises')\n",
    "    print(q, v)\n",
    "    cur = db_conn.cursor()\n",
    "    cur.execute(q, v)\n",
    "    db_conn.commit()\n",
    "    #submit_query(db_conn, q, values=v)\n",
    "\n",
    "db_conn.close()"
   ]
  },
  {
   "cell_type": "code",
   "execution_count": 16,
   "metadata": {},
   "outputs": [
    {
     "name": "stdout",
     "output_type": "stream",
     "text": [
      "[{'Season': 2020, 'Champion': 17, 'RunnerUp': 0}, {'Season': 2019, 'Champion': 25, 'RunnerUp': 28}, {'Season': 2018, 'Champion': 8, 'RunnerUp': 31}, {'Season': 2017, 'Champion': 9, 'RunnerUp': 14}, {'Season': 2016, 'Champion': 9, 'RunnerUp': 18}, {'Season': 2015, 'Champion': 7, 'RunnerUp': 17}, {'Season': 2014, 'Champion': 2, 'RunnerUp': 22}, {'Season': 2013, 'Champion': 7, 'RunnerUp': 28}, {'Season': 2012, 'Champion': 2, 'RunnerUp': 11}, {'Season': 2011, 'Champion': 28, 'RunnerUp': 6}, {'Season': 2010, 'Champion': 7, 'RunnerUp': 16}, {'Season': 2009, 'Champion': 9, 'RunnerUp': 27}, {'Season': 2008, 'Champion': 27, 'RunnerUp': 9}, {'Season': 2007, 'Champion': 12, 'RunnerUp': 29}, {'Season': 2006, 'Champion': 24, 'RunnerUp': 13}, {'Season': 2004, 'Champion': 17, 'RunnerUp': 15}, {'Season': 2003, 'Champion': 11, 'RunnerUp': 12}, {'Season': 2002, 'Champion': 27, 'RunnerUp': 24}, {'Season': 2001, 'Champion': 26, 'RunnerUp': 11}, {'Season': 2000, 'Champion': 11, 'RunnerUp': 0}, {'Season': 1999, 'Champion': 0, 'RunnerUp': 19}, {'Season': 1998, 'Champion': 27, 'RunnerUp': 8}, {'Season': 1997, 'Champion': 27, 'RunnerUp': 16}, {'Season': 1996, 'Champion': 26, 'RunnerUp': 1}, {'Season': 1995, 'Champion': 11, 'RunnerUp': 27}, {'Season': 1994, 'Champion': 22, 'RunnerUp': 6}, {'Season': 1993, 'Champion': 30, 'RunnerUp': 2}, {'Season': 1992, 'Champion': 9, 'RunnerUp': 7}, {'Season': 1990, 'Champion': 13, 'RunnerUp': 28}]\n"
     ]
    }
   ],
   "source": [
    "# generate the playoffs table using the unique franchise ids\n",
    "# the teams listed are the teams in index 2 of the franchise_ids tuples\n",
    "playoff_rows = []\n",
    "\n",
    "unique_teams = [[],[], []]\n",
    "for team in franchise_ids:\n",
    "    unique_teams[0].append(team[0])\n",
    "    unique_teams[1].append(team[2])\n",
    "    unique_teams[2].append(team[1])\n",
    "\n",
    "for row in playoffs.itertuples():\n",
    "    # print(row.Champion, row._4)\n",
    "    winner = row.Champion\n",
    "    loser = row._4\n",
    "    year = row.Year\n",
    "    \n",
    "    win_ind = -1\n",
    "    los_ind = -1\n",
    "    \n",
    "    \n",
    "    if winner in unique_teams[1]:\n",
    "        win_ind = unique_teams[1].index(winner)\n",
    "    if loser in unique_teams[1]:\n",
    "        los_ind = unique_teams[1].index(loser)\n",
    "        \n",
    "    if win_ind > -1 and los_ind > -1:\n",
    "        _row = {} # ID, Season, Champion, RunnerUp\n",
    "        _row['Season'] = year\n",
    "        _row['Champion'] = unique_teams[0][win_ind]\n",
    "        _row['RunnerUp'] = unique_teams[0][los_ind]\n",
    "        \n",
    "        playoff_rows.append(_row)\n",
    "        \n",
    "print(playoff_rows)"
   ]
  },
  {
   "cell_type": "code",
   "execution_count": 17,
   "metadata": {},
   "outputs": [],
   "source": [
    "# loop over playoff seasons and append to the db\n",
    "db_conn = connect_to_db()\n",
    "for i in range(len(playoff_rows)):\n",
    "    q, v = insertion(playoff_rows[i], 'PlayoffFinals')\n",
    "    cur = db_conn.cursor()\n",
    "    cur.execute(q, v)\n",
    "    db_conn.commit()\n",
    "    # submit_query(db_conn, q, values=v)\n",
    "db_conn.close()"
   ]
  },
  {
   "cell_type": "code",
   "execution_count": null,
   "metadata": {},
   "outputs": [],
   "source": []
  },
  {
   "cell_type": "code",
   "execution_count": null,
   "metadata": {},
   "outputs": [],
   "source": []
  },
  {
   "cell_type": "code",
   "execution_count": null,
   "metadata": {},
   "outputs": [],
   "source": []
  },
  {
   "cell_type": "code",
   "execution_count": null,
   "metadata": {},
   "outputs": [],
   "source": []
  },
  {
   "cell_type": "code",
   "execution_count": 14,
   "metadata": {},
   "outputs": [
    {
     "name": "stdout",
     "output_type": "stream",
     "text": [
      "  Last Name First Name   Season   Age Team Pos  GP  G   A  PTS  ...  SHG  \\\n",
      "0     Aalto      Antti  1997-98  22.0  MDA   C   3  0   0    0  ...    0   \n",
      "1     Aalto      Antti  1998-99  23.0  MDA   C  73  3   5    8  ...    0   \n",
      "2     Aalto      Antti  1999-00  24.0  MDA   C  63  7  11   18  ...    0   \n",
      "3     Aalto      Antti  2000-01  25.0  MDA   C  12  1   1    2  ...    0   \n",
      "4    Abbott    Spencer  2013-14  25.0  TOR  RW   1  0   0    0  ...    0   \n",
      "\n",
      "   Shot    TOI  OPS  DPS   PS  OGVT  DGVT  SGVT  GVT  \n",
      "0     1    0.0 -0.1  0.0 -0.1  -0.2  -0.1   0.0 -0.2  \n",
      "1    61  685.0 -0.7  0.3 -0.3  -1.7  -0.5   0.0 -2.2  \n",
      "2   102  830.0  0.3  0.4  0.7   0.2   1.1   0.0  1.3  \n",
      "3    18  127.0  0.0  0.2  0.2  -0.2   0.4   0.0  0.2  \n",
      "4     2    5.0  0.0 -0.1 -0.1  -0.2  -0.2   0.0 -0.4  \n",
      "\n",
      "[5 rows x 24 columns]\n"
     ]
    }
   ],
   "source": [
    "# updating table players   Season, Team --> connect Team to Franchise ID again\n",
    "# player should be reset to FirstName LAstName\n",
    "print(players.head())"
   ]
  },
  {
   "cell_type": "code",
   "execution_count": 22,
   "metadata": {},
   "outputs": [],
   "source": [
    "db_conn = connect_to_db()\n",
    "\n",
    "for row in players.itertuples():\n",
    "    player_row = {}\n",
    "\n",
    "    player = \"{} {}\".format(row[2], row[1])\n",
    "    # create season as the final 2 digits from the Season column, with the addition of either 19 or 20 in front\n",
    "    season2dig = int(row.Season[-2:])\n",
    "    # anything above 20 will be in the 20th century (prefix 19) otherwise 21st cnetury (prefix 20)\n",
    "    if season2dig > 20: \n",
    "        season = season2dig + 1900\n",
    "    else:\n",
    "        season = season2dig + 2000\n",
    "    team_ac = row.Team\n",
    "    team_id = -1\n",
    "    # get team id\n",
    "    if team_ac in unique_teams[2]:\n",
    "        _ind = unique_teams[2].index(team_ac)\n",
    "        team_id = unique_teams[0][_ind]\n",
    "    \n",
    "    player_row['Player'] = player\n",
    "    player_row['Season'] = season\n",
    "    player_row['Team'] = team_id\n",
    "    if team_id > -1:\n",
    "        q, v = insertion(player_row, 'PlayerSeason')\n",
    "        cur = db_conn.cursor()\n",
    "        cur.execute(q, v)\n",
    "        db_conn.commit()    \n",
    "\n",
    "db_conn.close()"
   ]
  },
  {
   "cell_type": "code",
   "execution_count": 27,
   "metadata": {},
   "outputs": [
    {
     "name": "stdout",
     "output_type": "stream",
     "text": [
      "   Overall                   Team            Player Nat. Pos   Age      To  \\\n",
      "0      1.0     New York Islanders     Rick DiPietro   US   G  18.0  2013.0   \n",
      "1      2.0      Atlanta Thrashers      Dany Heatley   DE  LW  19.0  2015.0   \n",
      "2      3.0         Minnesota Wild    Marian Gaborik   SK  RW  18.0  2018.0   \n",
      "3      4.0  Columbus Blue Jackets  Rostislav Klesla   CZ   D  18.0  2014.0   \n",
      "4      5.0     New York Islanders      Raffi Torres   CA  LW  18.0  2014.0   \n",
      "\n",
      "                 Amateur Team      GP      G  ...    PTS   +/-    PIM   GP.1  \\\n",
      "0  Boston University (H-East)   318.0    0.0  ...   19.0   0.0  129.0  318.0   \n",
      "1            Wisconsin (WCHA)   869.0  372.0  ...  791.0  38.0  620.0    NaN   \n",
      "2    Dukla Trencin (Slovakia)  1035.0  407.0  ...  815.0  95.0  492.0    NaN   \n",
      "3              Brampton (OHL)   659.0   48.0  ...  159.0 -46.0  620.0    NaN   \n",
      "4              Brampton (OHL)   635.0  137.0  ...  260.0   2.0  497.0    NaN   \n",
      "\n",
      "       W      L   T/O    SV%   GAA     PS  \n",
      "0  130.0  136.0  36.0  0.902  2.87   49.3  \n",
      "1    NaN    NaN   NaN    NaN   NaN   95.2  \n",
      "2    NaN    NaN   NaN    NaN   NaN  108.1  \n",
      "3    NaN    NaN   NaN    NaN   NaN   34.5  \n",
      "4    NaN    NaN   NaN    NaN   NaN   28.4  \n",
      "\n",
      "[5 rows x 21 columns]\n"
     ]
    }
   ],
   "source": [
    "# loading draft results in\n",
    "print(drafts['2000'].head())"
   ]
  },
  {
   "cell_type": "code",
   "execution_count": 33,
   "metadata": {},
   "outputs": [],
   "source": [
    "db_conn = connect_to_db()\n",
    "for k, v in drafts.items():\n",
    "    for row in v.itertuples():\n",
    "        player_row = {}\n",
    "\n",
    "        season = k\n",
    "        team_ac = row.Team\n",
    "        team_id = -1\n",
    "        # get team id\n",
    "        if team_ac in unique_teams[1]:\n",
    "            _ind = unique_teams[1].index(team_ac)\n",
    "            team_id = unique_teams[0][_ind]\n",
    "        try:\n",
    "            player_row['DraftPosition'] = int(row.Overall)\n",
    "        except:\n",
    "            player_row['DraftPosition'] = 999\n",
    "        player_row['Team'] = team_id\n",
    "        try:\n",
    "            player_row['Player'] = row.Player.split(\"\\\\\")[0]\n",
    "        except:\n",
    "            player_row['Player'] = \"Unknown Player\"\n",
    "        player_row['Season'] = season\n",
    "        if team_id > -1:\n",
    "            q, v = insertion(player_row, 'Drafts')\n",
    "            cur = db_conn.cursor()\n",
    "            cur.execute(q, v)\n",
    "            db_conn.commit()    \n",
    "    \n",
    "db_conn.close()"
   ]
  },
  {
   "cell_type": "code",
   "execution_count": null,
   "metadata": {},
   "outputs": [],
   "source": []
  }
 ],
 "metadata": {
  "kernelspec": {
   "display_name": "Python 3",
   "language": "python",
   "name": "python3"
  },
  "language_info": {
   "codemirror_mode": {
    "name": "ipython",
    "version": 3
   },
   "file_extension": ".py",
   "mimetype": "text/x-python",
   "name": "python",
   "nbconvert_exporter": "python",
   "pygments_lexer": "ipython3",
   "version": "3.7.4"
  }
 },
 "nbformat": 4,
 "nbformat_minor": 2
}
