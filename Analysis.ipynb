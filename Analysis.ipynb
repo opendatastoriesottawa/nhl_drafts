{
 "cells": [
  {
   "cell_type": "markdown",
   "metadata": {},
   "source": [
    "# Analysis\n",
    "\n",
    "Checking the impact of drafts for a team's success.  \n",
    "The only success factor worth measuring here is the stanley cup final (because that was the most accessible data)  \n",
    "I have the winner and runner-up year over year for multiple years.  \n",
    "\n",
    "### Steps  \n",
    "\n",
    "What this will do is, for each season, it will get the teams in the final.  \n",
    "It will determine their ID using the Franchises table.  \n",
    "It will take this ID to the player seasons table, and create a roster for the given season.  \n",
    "We will point this roster back at the drafts table, and detemrine how many of those players were drafted by the franchise.  \n",
    "This gives us some insight into how impactful draft picks are on a team's success vs. non-drafted players (i.e. trade, FA).  "
   ]
  },
  {
   "cell_type": "code",
   "execution_count": 92,
   "metadata": {},
   "outputs": [],
   "source": [
    "import pymysql.cursors\n",
    "import config as cfg\n",
    "import pandas as pd"
   ]
  },
  {
   "cell_type": "code",
   "execution_count": 49,
   "metadata": {},
   "outputs": [],
   "source": [
    "db_conn = pymysql.connect(host=cfg.host,\n",
    "                              user=cfg.user,\n",
    "                              password=cfg.pw,\n",
    "                              db=cfg.db,\n",
    "                              charset='utf8mb4',\n",
    "                              cursorclass=pymysql.cursors.DictCursor)"
   ]
  },
  {
   "cell_type": "code",
   "execution_count": 18,
   "metadata": {},
   "outputs": [],
   "source": [
    "query1 = \"SELECT * FROM nhldrafts.playofffinals;\"\n",
    "cur = db_conn.cursor()\n",
    "cur.execute(query1)\n",
    "db_conn.commit()\n",
    "finals_list = cur.fetchall()"
   ]
  },
  {
   "cell_type": "code",
   "execution_count": 19,
   "metadata": {},
   "outputs": [
    {
     "name": "stdout",
     "output_type": "stream",
     "text": [
      "[{'FinalsID': 1, 'Season': 2020, 'Champion': 17, 'RunnerUp': 0}, {'FinalsID': 2, 'Season': 2019, 'Champion': 25, 'RunnerUp': 28}, {'FinalsID': 3, 'Season': 2018, 'Champion': 8, 'RunnerUp': 31}, {'FinalsID': 4, 'Season': 2017, 'Champion': 9, 'RunnerUp': 14}, {'FinalsID': 5, 'Season': 2016, 'Champion': 9, 'RunnerUp': 18}, {'FinalsID': 6, 'Season': 2015, 'Champion': 7, 'RunnerUp': 17}, {'FinalsID': 7, 'Season': 2014, 'Champion': 2, 'RunnerUp': 22}, {'FinalsID': 8, 'Season': 2013, 'Champion': 7, 'RunnerUp': 28}, {'FinalsID': 9, 'Season': 2012, 'Champion': 2, 'RunnerUp': 11}, {'FinalsID': 10, 'Season': 2011, 'Champion': 28, 'RunnerUp': 6}, {'FinalsID': 11, 'Season': 2010, 'Champion': 7, 'RunnerUp': 16}, {'FinalsID': 12, 'Season': 2009, 'Champion': 9, 'RunnerUp': 27}, {'FinalsID': 13, 'Season': 2008, 'Champion': 27, 'RunnerUp': 9}, {'FinalsID': 14, 'Season': 2007, 'Champion': 12, 'RunnerUp': 29}, {'FinalsID': 15, 'Season': 2006, 'Champion': 24, 'RunnerUp': 13}, {'FinalsID': 16, 'Season': 2004, 'Champion': 17, 'RunnerUp': 15}, {'FinalsID': 17, 'Season': 2003, 'Champion': 11, 'RunnerUp': 12}, {'FinalsID': 18, 'Season': 2002, 'Champion': 27, 'RunnerUp': 24}, {'FinalsID': 19, 'Season': 2001, 'Champion': 26, 'RunnerUp': 11}, {'FinalsID': 20, 'Season': 2000, 'Champion': 11, 'RunnerUp': 0}, {'FinalsID': 21, 'Season': 1999, 'Champion': 0, 'RunnerUp': 19}, {'FinalsID': 22, 'Season': 1998, 'Champion': 27, 'RunnerUp': 8}, {'FinalsID': 23, 'Season': 1997, 'Champion': 27, 'RunnerUp': 16}, {'FinalsID': 24, 'Season': 1996, 'Champion': 26, 'RunnerUp': 1}, {'FinalsID': 25, 'Season': 1995, 'Champion': 11, 'RunnerUp': 27}, {'FinalsID': 26, 'Season': 1994, 'Champion': 22, 'RunnerUp': 6}, {'FinalsID': 27, 'Season': 1993, 'Champion': 30, 'RunnerUp': 2}, {'FinalsID': 28, 'Season': 1992, 'Champion': 9, 'RunnerUp': 7}, {'FinalsID': 29, 'Season': 1990, 'Champion': 13, 'RunnerUp': 28}]\n"
     ]
    }
   ],
   "source": [
    "print(finals_list)"
   ]
  },
  {
   "cell_type": "code",
   "execution_count": 61,
   "metadata": {},
   "outputs": [],
   "source": [
    "# final query\n",
    "final_team_query = \"SELECT * FROM nhldrafts.Franchises WHERE FranchiseID = %s OR FranchiseID = %s;\"\n",
    "\n",
    "# players query\n",
    "players_season_query = \"SELECT * FROM nhldrafts.PlayerSeason WHERE\"\n",
    "\n",
    "# draft query\n",
    "draft_query = \"SELECT * FROM nhldrafts.Drafts WHERE Player = %s;\""
   ]
  },
  {
   "cell_type": "code",
   "execution_count": null,
   "metadata": {},
   "outputs": [],
   "source": [
    "# get teams in final\n",
    "# get rosters\n",
    "# get draft pick\n",
    "\n",
    "# but\n",
    "# we can do that in this order\n",
    "# get teams\n",
    "# for each team in final, get players on roster\n",
    "# for each player on roster, get draft info\n",
    "# so: team - players group - add draft stat to players group\n"
   ]
  },
  {
   "cell_type": "code",
   "execution_count": 80,
   "metadata": {},
   "outputs": [],
   "source": [
    "finals = []\n",
    "for final in finals_list[3:-1]:\n",
    "    season = final['Season']\n",
    "    final_teams = {}\n",
    "    final_teams['Season'] = season\n",
    "    final_teams['ChampionID'] = final['Champion']\n",
    "    final_teams['RunnerUpID'] = final['RunnerUp']\n",
    "    cur = db_conn.cursor()\n",
    "    cur.execute(final_team_query, (winner, loser))\n",
    "    db_conn.commit()\n",
    "    _teams = cur.fetchall()\n",
    "    final_teams['ChampionName'] = _teams[0]['TeamName']\n",
    "    final_teams['RunnerUpName'] = _teams[1]['TeamName']\n",
    "    final_teams['ChampionRoster'] = []\n",
    "    final_teams['RunnerUpRoster'] = []\n",
    "    \n",
    "    final_teams['ChampionCounts'] = {'Drafted':0, 'NonDrafted':0}\n",
    "    final_teams['RunnerUpCounts'] = {'Drafted':0, 'NonDrafted':0}\n",
    "    \n",
    "    # for the two teams in final_teams\n",
    "    for k, v in final_teams.items():\n",
    "        if k not in ['ChampionID', 'RunnerUpID'] :\n",
    "            continue\n",
    "        # key is Championid or RunnerUpid, v is teamid\n",
    "        # get the roster of current team\n",
    "        cur = db_conn.cursor()\n",
    "        players_season_query_u = \"{} Season = {} AND Team = {};\".format(players_season_query, season, v)\n",
    "        cur.execute(players_season_query_u)\n",
    "        db_conn.commit()\n",
    "        roster = cur.fetchall()\n",
    "        # for each player in the roster, get their draft team\n",
    "        for player in roster:\n",
    "            cur = db_conn.cursor()\n",
    "            cur.execute(draft_query, player['Player'])\n",
    "            db_conn.commit()\n",
    "            draftee = cur.fetchall()\n",
    "            if not draftee:\n",
    "                d = (999, 9999, 99)\n",
    "            else:\n",
    "                d = (draftee[0]['DraftPosition'], draftee[0]['Season'], draftee[0]['Team'])\n",
    "            # get counts of draafted vs non-drafted as well\n",
    "            if k == 'ChampionID':\n",
    "                    final_teams['ChampionRoster'].append((player['Player'], d[0], d[1], d[2]))\n",
    "                    if d[2] != final_teams['ChampionID']:\n",
    "                        final_teams['ChampionCounts']['NonDrafted'] += 1\n",
    "                    else:\n",
    "                        final_teams['ChampionCounts']['Drafted'] += 1\n",
    "            \n",
    "            elif k == \"RunnerUpID\":\n",
    "                final_teams['RunnerUpRoster'].append((player['Player'], d[0], d[1], d[2]))\n",
    "                if d[2] != final_teams['RunnerUpID']:\n",
    "                    final_teams['RunnerUpCounts']['NonDrafted'] += 1\n",
    "                else:\n",
    "                    final_teams['RunnerUpCounts']['Drafted'] += 1        \n",
    "\n",
    "    finals.append(final_teams)"
   ]
  },
  {
   "cell_type": "code",
   "execution_count": 121,
   "metadata": {},
   "outputs": [
    {
     "name": "stdout",
     "output_type": "stream",
     "text": [
      "2017 {'Drafted': 12, 'NonDrafted': 19} {'Drafted': 14, 'NonDrafted': 17}\n",
      "2016 {'Drafted': 13, 'NonDrafted': 14} {'Drafted': 13, 'NonDrafted': 13}\n",
      "2015 {'Drafted': 14, 'NonDrafted': 15} {'Drafted': 13, 'NonDrafted': 14}\n",
      "2014 {'Drafted': 13, 'NonDrafted': 9} {'Drafted': 8, 'NonDrafted': 16}\n",
      "2013 {'Drafted': 13, 'NonDrafted': 15} {'Drafted': 8, 'NonDrafted': 18}\n",
      "2012 {'Drafted': 11, 'NonDrafted': 14} {'Drafted': 13, 'NonDrafted': 15}\n",
      "2011 {'Drafted': 8, 'NonDrafted': 15} {'Drafted': 12, 'NonDrafted': 23}\n",
      "2010 {'Drafted': 12, 'NonDrafted': 12} {'Drafted': 9, 'NonDrafted': 17}\n",
      "2009 {'Drafted': 13, 'NonDrafted': 17} {'Drafted': 13, 'NonDrafted': 13}\n",
      "2008 {'Drafted': 15, 'NonDrafted': 13} {'Drafted': 13, 'NonDrafted': 14}\n",
      "2007 {'Drafted': 3, 'NonDrafted': 19} {'Drafted': 12, 'NonDrafted': 11}\n",
      "2006 {'Drafted': 5, 'NonDrafted': 17} {'Drafted': 12, 'NonDrafted': 13}\n",
      "2004 {'Drafted': 6, 'NonDrafted': 16} {'Drafted': 6, 'NonDrafted': 17}\n",
      "2003 {'Drafted': 10, 'NonDrafted': 15} {'Drafted': 7, 'NonDrafted': 18}\n",
      "2002 {'Drafted': 7, 'NonDrafted': 17} {'Drafted': 7, 'NonDrafted': 15}\n",
      "2001 {'Drafted': 6, 'NonDrafted': 18} {'Drafted': 13, 'NonDrafted': 13}\n",
      "2000 {'Drafted': 10, 'NonDrafted': 10} {'Drafted': 8, 'NonDrafted': 22}\n"
     ]
    }
   ],
   "source": [
    "roster_counts = []\n",
    "for final in finals:\n",
    "    if final['Season'] >= 2000:\n",
    "        print(final['Season'], final['ChampionCounts'], final['RunnerUpCounts'])\n",
    "        roster_counts.append(final['ChampionCounts']['Drafted'] + final['ChampionCounts']['NonDrafted'])\n",
    "        roster_counts.append(final['RunnerUpCounts']['Drafted'] + final['RunnerUpCounts']['NonDrafted'])"
   ]
  },
  {
   "cell_type": "code",
   "execution_count": 122,
   "metadata": {},
   "outputs": [
    {
     "name": "stdout",
     "output_type": "stream",
     "text": [
      "25.764705882352942\n"
     ]
    }
   ],
   "source": [
    "# total counts\n",
    "print(sum(roster_counts) / len(roster_counts))"
   ]
  },
  {
   "cell_type": "markdown",
   "metadata": {},
   "source": [
    "# Numbers\n",
    "\n",
    "Let's get:  \n",
    "\n",
    "The percentage since 2000 of drafted vs non-drafted on the two best rosters  \n",
    "The number of teams with more drafted than non-drafted and vice-versa  \n"
   ]
  },
  {
   "cell_type": "code",
   "execution_count": 119,
   "metadata": {},
   "outputs": [
    {
     "name": "stdout",
     "output_type": "stream",
     "text": [
      "ALL\n",
      "Total, Drafted, NonDrafted: 876, 352, 524\n",
      "Average Draft, Non: 0.4018264840182648 0.5981735159817352\n",
      "CHAMPION\n",
      "Total, Drafted, NonDrafted: 426, 171, 255\n",
      "Average Draft, Non: 0.4014084507042254 0.5985915492957746\n",
      "CHAMPION\n",
      "Total, Drafted, NonDrafted: 450, 181, 269\n",
      "Average Draft, Non: 0.4022222222222222 0.5977777777777777\n"
     ]
    }
   ],
   "source": [
    "total_drafted = 0\n",
    "total_ndrafted = 0\n",
    "for final in finals:\n",
    "    if final['Season'] >= 2000:\n",
    "        total_drafted += final['ChampionCounts']['Drafted']\n",
    "        total_ndrafted += final['ChampionCounts']['NonDrafted']\n",
    "        total_drafted += final['RunnerUpCounts']['Drafted']\n",
    "        total_ndrafted += final['RunnerUpCounts']['NonDrafted']\n",
    "        \n",
    "# average\n",
    "print(\"ALL\")\n",
    "total = total_drafted+total_ndrafted\n",
    "print(\"Total, Drafted, NonDrafted: {}, {}, {}\".format(total, total_drafted, total_ndrafted))\n",
    "print(\"Average Draft, Non: {} {}\".format(total_drafted/total, total_ndrafted/total))\n",
    "\n",
    "# average for champion\n",
    "total_drafted = 0\n",
    "total_ndrafted = 0\n",
    "for final in finals:\n",
    "    if final['Season'] >= 2000:\n",
    "        total_drafted += final['ChampionCounts']['Drafted']\n",
    "        total_ndrafted += final['ChampionCounts']['NonDrafted']\n",
    "        \n",
    "print(\"CHAMPION\")\n",
    "total = total_drafted+total_ndrafted\n",
    "print(\"Total, Drafted, NonDrafted: {}, {}, {}\".format(total, total_drafted, total_ndrafted))\n",
    "print(\"Average Draft, Non: {} {}\".format(total_drafted/total, total_ndrafted/total))\n",
    "\n",
    "# average for runnerup\n",
    "total_drafted = 0\n",
    "total_ndrafted = 0\n",
    "for final in finals:\n",
    "    if final['Season'] >= 2000:\n",
    "        total_drafted += final['RunnerUpCounts']['Drafted']\n",
    "        total_ndrafted += final['RunnerUpCounts']['NonDrafted']\n",
    "        \n",
    "print(\"CHAMPION\")\n",
    "total = total_drafted+total_ndrafted\n",
    "print(\"Total, Drafted, NonDrafted: {}, {}, {}\".format(total, total_drafted, total_ndrafted))\n",
    "print(\"Average Draft, Non: {} {}\".format(total_drafted/total, total_ndrafted/total))\n",
    "        "
   ]
  },
  {
   "cell_type": "code",
   "execution_count": 90,
   "metadata": {},
   "outputs": [
    {
     "name": "stdout",
     "output_type": "stream",
     "text": [
      "3 26 5\n"
     ]
    }
   ],
   "source": [
    "more_draft = 0\n",
    "more_non = 0\n",
    "same = 0\n",
    "\n",
    "for final in finals:\n",
    "    if final['Season'] >= 2000:\n",
    "        if final['ChampionCounts']['Drafted'] > final['ChampionCounts']['NonDrafted']:\n",
    "            more_draft += 1\n",
    "        elif final['ChampionCounts']['NonDrafted'] > final['ChampionCounts']['Drafted']:\n",
    "            more_non += 1\n",
    "        elif final['ChampionCounts']['NonDrafted'] == final['ChampionCounts']['Drafted']:\n",
    "            same += 1\n",
    "        \n",
    "        if final['RunnerUpCounts']['Drafted'] > final['RunnerUpCounts']['NonDrafted']:\n",
    "            more_draft += 1\n",
    "        elif final['RunnerUpCounts']['NonDrafted'] > final['RunnerUpCounts']['Drafted']:\n",
    "            more_non += 1\n",
    "        elif final['RunnerUpCounts']['NonDrafted'] == final['RunnerUpCounts']['Drafted']:\n",
    "            same += 1\n",
    "            \n",
    "print(more_draft, more_non, same)"
   ]
  },
  {
   "cell_type": "code",
   "execution_count": 88,
   "metadata": {},
   "outputs": [
    {
     "name": "stdout",
     "output_type": "stream",
     "text": [
      "10.352941176470589\n",
      "15.411764705882353\n"
     ]
    }
   ],
   "source": [
    "# average number of drafted players on a given top 2 roster\n",
    "# number of rosters = 34\n",
    "avg_draft = total_drafted / 34\n",
    "avg_ndraft = total_ndrafted / 34\n",
    "print(avg_draft)\n",
    "print(avg_ndraft)"
   ]
  },
  {
   "cell_type": "markdown",
   "metadata": {},
   "source": [
    "Most teams feature more non-drafted players than drafted. About 20% more actually. That said, we don't know the impact of drafted vs non-drafted players. We also need to check how many players each team drafts. I.e. leading up to your stanley cup run, how many players did you need to draft. I can image that in a decade window prior to a stanley cup win, a team is probably drafting somewhere in the range of 60-70 players. If they only have, on average, 10.35 drafted players on the roster, vs 15.4 non-drafted, would it make more sense to trade picks or assets for proven players?   "
   ]
  },
  {
   "cell_type": "code",
   "execution_count": 93,
   "metadata": {},
   "outputs": [],
   "source": [
    "# we can reload the player tables, and join the data found within to the given rosters.\n",
    "# important info is: age, and stats. GP and TOI can point to a player's utilization. \n",
    "# other stats to note are G/A/PTS, and plusminus\n",
    "\n",
    "# load the data\n",
    "allplayers = pd.read_excel(\"NHLPlayerData1967_2018.xlsx\", sheet_name=\"Player Data\")"
   ]
  },
  {
   "cell_type": "code",
   "execution_count": 95,
   "metadata": {},
   "outputs": [
    {
     "data": {
      "text/html": [
       "<div>\n",
       "<style scoped>\n",
       "    .dataframe tbody tr th:only-of-type {\n",
       "        vertical-align: middle;\n",
       "    }\n",
       "\n",
       "    .dataframe tbody tr th {\n",
       "        vertical-align: top;\n",
       "    }\n",
       "\n",
       "    .dataframe thead th {\n",
       "        text-align: right;\n",
       "    }\n",
       "</style>\n",
       "<table border=\"1\" class=\"dataframe\">\n",
       "  <thead>\n",
       "    <tr style=\"text-align: right;\">\n",
       "      <th></th>\n",
       "      <th>Last Name</th>\n",
       "      <th>First Name</th>\n",
       "      <th>Season</th>\n",
       "      <th>Age</th>\n",
       "      <th>Team</th>\n",
       "      <th>Pos</th>\n",
       "      <th>GP</th>\n",
       "      <th>G</th>\n",
       "      <th>A</th>\n",
       "      <th>PTS</th>\n",
       "      <th>...</th>\n",
       "      <th>Shot</th>\n",
       "      <th>TOI</th>\n",
       "      <th>OPS</th>\n",
       "      <th>DPS</th>\n",
       "      <th>PS</th>\n",
       "      <th>OGVT</th>\n",
       "      <th>DGVT</th>\n",
       "      <th>SGVT</th>\n",
       "      <th>GVT</th>\n",
       "      <th>Player</th>\n",
       "    </tr>\n",
       "  </thead>\n",
       "  <tbody>\n",
       "    <tr>\n",
       "      <td>0</td>\n",
       "      <td>Aalto</td>\n",
       "      <td>Antti</td>\n",
       "      <td>1997-98</td>\n",
       "      <td>22.0</td>\n",
       "      <td>MDA</td>\n",
       "      <td>C</td>\n",
       "      <td>3</td>\n",
       "      <td>0</td>\n",
       "      <td>0</td>\n",
       "      <td>0</td>\n",
       "      <td>...</td>\n",
       "      <td>1</td>\n",
       "      <td>0.0</td>\n",
       "      <td>-0.1</td>\n",
       "      <td>0.0</td>\n",
       "      <td>-0.1</td>\n",
       "      <td>-0.2</td>\n",
       "      <td>-0.1</td>\n",
       "      <td>0.0</td>\n",
       "      <td>-0.2</td>\n",
       "      <td>Antti Aalto</td>\n",
       "    </tr>\n",
       "    <tr>\n",
       "      <td>1</td>\n",
       "      <td>Aalto</td>\n",
       "      <td>Antti</td>\n",
       "      <td>1998-99</td>\n",
       "      <td>23.0</td>\n",
       "      <td>MDA</td>\n",
       "      <td>C</td>\n",
       "      <td>73</td>\n",
       "      <td>3</td>\n",
       "      <td>5</td>\n",
       "      <td>8</td>\n",
       "      <td>...</td>\n",
       "      <td>61</td>\n",
       "      <td>685.0</td>\n",
       "      <td>-0.7</td>\n",
       "      <td>0.3</td>\n",
       "      <td>-0.3</td>\n",
       "      <td>-1.7</td>\n",
       "      <td>-0.5</td>\n",
       "      <td>0.0</td>\n",
       "      <td>-2.2</td>\n",
       "      <td>Antti Aalto</td>\n",
       "    </tr>\n",
       "    <tr>\n",
       "      <td>2</td>\n",
       "      <td>Aalto</td>\n",
       "      <td>Antti</td>\n",
       "      <td>1999-00</td>\n",
       "      <td>24.0</td>\n",
       "      <td>MDA</td>\n",
       "      <td>C</td>\n",
       "      <td>63</td>\n",
       "      <td>7</td>\n",
       "      <td>11</td>\n",
       "      <td>18</td>\n",
       "      <td>...</td>\n",
       "      <td>102</td>\n",
       "      <td>830.0</td>\n",
       "      <td>0.3</td>\n",
       "      <td>0.4</td>\n",
       "      <td>0.7</td>\n",
       "      <td>0.2</td>\n",
       "      <td>1.1</td>\n",
       "      <td>0.0</td>\n",
       "      <td>1.3</td>\n",
       "      <td>Antti Aalto</td>\n",
       "    </tr>\n",
       "    <tr>\n",
       "      <td>3</td>\n",
       "      <td>Aalto</td>\n",
       "      <td>Antti</td>\n",
       "      <td>2000-01</td>\n",
       "      <td>25.0</td>\n",
       "      <td>MDA</td>\n",
       "      <td>C</td>\n",
       "      <td>12</td>\n",
       "      <td>1</td>\n",
       "      <td>1</td>\n",
       "      <td>2</td>\n",
       "      <td>...</td>\n",
       "      <td>18</td>\n",
       "      <td>127.0</td>\n",
       "      <td>0.0</td>\n",
       "      <td>0.2</td>\n",
       "      <td>0.2</td>\n",
       "      <td>-0.2</td>\n",
       "      <td>0.4</td>\n",
       "      <td>0.0</td>\n",
       "      <td>0.2</td>\n",
       "      <td>Antti Aalto</td>\n",
       "    </tr>\n",
       "    <tr>\n",
       "      <td>4</td>\n",
       "      <td>Abbott</td>\n",
       "      <td>Spencer</td>\n",
       "      <td>2013-14</td>\n",
       "      <td>25.0</td>\n",
       "      <td>TOR</td>\n",
       "      <td>RW</td>\n",
       "      <td>1</td>\n",
       "      <td>0</td>\n",
       "      <td>0</td>\n",
       "      <td>0</td>\n",
       "      <td>...</td>\n",
       "      <td>2</td>\n",
       "      <td>5.0</td>\n",
       "      <td>0.0</td>\n",
       "      <td>-0.1</td>\n",
       "      <td>-0.1</td>\n",
       "      <td>-0.2</td>\n",
       "      <td>-0.2</td>\n",
       "      <td>0.0</td>\n",
       "      <td>-0.4</td>\n",
       "      <td>Spencer Abbott</td>\n",
       "    </tr>\n",
       "  </tbody>\n",
       "</table>\n",
       "<p>5 rows × 25 columns</p>\n",
       "</div>"
      ],
      "text/plain": [
       "  Last Name First Name   Season   Age Team Pos  GP  G   A  PTS  ...  Shot  \\\n",
       "0     Aalto      Antti  1997-98  22.0  MDA   C   3  0   0    0  ...     1   \n",
       "1     Aalto      Antti  1998-99  23.0  MDA   C  73  3   5    8  ...    61   \n",
       "2     Aalto      Antti  1999-00  24.0  MDA   C  63  7  11   18  ...   102   \n",
       "3     Aalto      Antti  2000-01  25.0  MDA   C  12  1   1    2  ...    18   \n",
       "4    Abbott    Spencer  2013-14  25.0  TOR  RW   1  0   0    0  ...     2   \n",
       "\n",
       "     TOI  OPS  DPS   PS  OGVT  DGVT  SGVT  GVT          Player  \n",
       "0    0.0 -0.1  0.0 -0.1  -0.2  -0.1   0.0 -0.2     Antti Aalto  \n",
       "1  685.0 -0.7  0.3 -0.3  -1.7  -0.5   0.0 -2.2     Antti Aalto  \n",
       "2  830.0  0.3  0.4  0.7   0.2   1.1   0.0  1.3     Antti Aalto  \n",
       "3  127.0  0.0  0.2  0.2  -0.2   0.4   0.0  0.2     Antti Aalto  \n",
       "4    5.0  0.0 -0.1 -0.1  -0.2  -0.2   0.0 -0.4  Spencer Abbott  \n",
       "\n",
       "[5 rows x 25 columns]"
      ]
     },
     "execution_count": 95,
     "metadata": {},
     "output_type": "execute_result"
    }
   ],
   "source": [
    "allplayers['Player'] = allplayers[['First Name', 'Last Name']].agg(' '.join, axis=1)\n",
    "allplayers.head()"
   ]
  },
  {
   "cell_type": "code",
   "execution_count": 111,
   "metadata": {},
   "outputs": [
    {
     "name": "stdout",
     "output_type": "stream",
     "text": [
      "{'Last Name': 'Aalto', 'First Name': 'Antti', 'Season': '1999-00', 'Age': 24.0, 'Team': 'MDA', 'Pos': 'C', 'GP': 63, 'G': 7, 'A': 11, 'PTS': 18, 'P/M': -13, 'PIM': 26, 'ESG': 6, 'PPG': 1, 'SHG': 0, 'Shot': 102, 'TOI': 830.0, 'OPS': 0.3, 'DPS': 0.4, 'PS': 0.7, 'OGVT': 0.2, 'DGVT': 1.1, 'SGVT': 0.0, 'GVT': 1.3, 'Player': 'Antti Aalto'}\n"
     ]
    }
   ],
   "source": [
    "# functions needed: pull player row from pandas table\n",
    "\n",
    "# function --> fix dict that pandas is returning\n",
    "def fix_pandas_dict(d):\n",
    "    # where d is the dictionary\n",
    "    new_d = {}\n",
    "    for k, v in d.items():\n",
    "        new_d[k] = v[0]\n",
    "        \n",
    "    return new_d\n",
    "\n",
    "def get_player_row(player, season, df):\n",
    "    season1 = \"{}-{}\".format(season-1, str(season)[-2:])\n",
    "\n",
    "    row = df.loc[(df['Player'] == player) & (df['Season'] == season1)]\n",
    "    row.reset_index(drop=True, inplace=True)\n",
    "    \n",
    "    return fix_pandas_dict(row.to_dict())\n",
    "\n"
   ]
  },
  {
   "cell_type": "code",
   "execution_count": 117,
   "metadata": {},
   "outputs": [],
   "source": [
    "# we can get all the roster boys and their stats here\n",
    "for final in finals:\n",
    "    final['ChampionRosterStats'] = []\n",
    "    final['RunnerUpRosterStats'] = []\n",
    "    \n",
    "    for player in final['ChampionRoster']:\n",
    "        final['ChampionRosterStats'].append(get_player_row(player[0], final['Season'], allplayers))\n",
    "        \n",
    "    for player in final['RunnerUpRoster']:\n",
    "        final['RunnerUpRosterStats'].append(get_player_row(player[0], final['Season'], allplayers))\n",
    "    \n"
   ]
  },
  {
   "cell_type": "code",
   "execution_count": null,
   "metadata": {},
   "outputs": [],
   "source": []
  }
 ],
 "metadata": {
  "kernelspec": {
   "display_name": "Python 3",
   "language": "python",
   "name": "python3"
  },
  "language_info": {
   "codemirror_mode": {
    "name": "ipython",
    "version": 3
   },
   "file_extension": ".py",
   "mimetype": "text/x-python",
   "name": "python",
   "nbconvert_exporter": "python",
   "pygments_lexer": "ipython3",
   "version": "3.7.4"
  }
 },
 "nbformat": 4,
 "nbformat_minor": 2
}
